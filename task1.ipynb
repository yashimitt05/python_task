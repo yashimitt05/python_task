{
 "cells": [
  {
   "cell_type": "markdown",
   "id": "a4610653-d1b7-4916-ac0b-655dfa51bc7b",
   "metadata": {},
   "source": [
    "#ANS1-\n",
    "\n",
    "\"def\" keyword is used to create a function."
   ]
  },
  {
   "cell_type": "code",
   "execution_count": 1,
   "id": "03b7ac4b-9167-4a3c-a16c-9221b047ab7b",
   "metadata": {},
   "outputs": [],
   "source": [
    "def odd(n):\n",
    "    for i in range (1,n+1):\n",
    "        if i%2 != 0:\n",
    "            print(i)"
   ]
  },
  {
   "cell_type": "code",
   "execution_count": 2,
   "id": "8beffc7a-bd22-4e06-b528-3aafbf6443d6",
   "metadata": {},
   "outputs": [
    {
     "name": "stdout",
     "output_type": "stream",
     "text": [
      "1\n",
      "3\n",
      "5\n",
      "7\n",
      "9\n",
      "11\n",
      "13\n",
      "15\n",
      "17\n",
      "19\n",
      "21\n",
      "23\n",
      "25\n"
     ]
    }
   ],
   "source": [
    "odd(25)"
   ]
  },
  {
   "cell_type": "markdown",
   "id": "caf777f8-a847-48b0-8f22-220cc9eb9364",
   "metadata": {},
   "source": [
    "#ANS2-\n",
    "\n",
    "when we are unsure about the number of arguments to pass in the functions, then we use *args and **kwargs."
   ]
  },
  {
   "cell_type": "code",
   "execution_count": 4,
   "id": "d5e85c7c-435a-4141-b57c-c866db4406d0",
   "metadata": {},
   "outputs": [],
   "source": [
    "def test1(*args):\n",
    "    return args"
   ]
  },
  {
   "cell_type": "code",
   "execution_count": 5,
   "id": "b325f736-d41a-4436-b380-89b4187867e1",
   "metadata": {},
   "outputs": [
    {
     "data": {
      "text/plain": [
       "(2,)"
      ]
     },
     "execution_count": 5,
     "metadata": {},
     "output_type": "execute_result"
    }
   ],
   "source": [
    "test1(2)"
   ]
  },
  {
   "cell_type": "code",
   "execution_count": 6,
   "id": "b8af236f-b9e5-4335-8cab-0d5b810f679d",
   "metadata": {},
   "outputs": [
    {
     "data": {
      "text/plain": [
       "(1, 2, 3, 4)"
      ]
     },
     "execution_count": 6,
     "metadata": {},
     "output_type": "execute_result"
    }
   ],
   "source": [
    "test1(1,2,3,4)"
   ]
  },
  {
   "cell_type": "code",
   "execution_count": 7,
   "id": "9c9c8ae4-4939-4e28-85b5-293816eebf38",
   "metadata": {},
   "outputs": [],
   "source": [
    "def test1(**kwargs):\n",
    "    return kwargs"
   ]
  },
  {
   "cell_type": "code",
   "execution_count": 8,
   "id": "400ed6af-82b3-48d0-8898-223f231273a0",
   "metadata": {},
   "outputs": [
    {
     "data": {
      "text/plain": [
       "{}"
      ]
     },
     "execution_count": 8,
     "metadata": {},
     "output_type": "execute_result"
    }
   ],
   "source": [
    "test1()"
   ]
  },
  {
   "cell_type": "code",
   "execution_count": 9,
   "id": "1f9db273-f7c1-495f-899c-67da8e94f5bd",
   "metadata": {},
   "outputs": [
    {
     "data": {
      "text/plain": [
       "{'a': 1, 'b': 2}"
      ]
     },
     "execution_count": 9,
     "metadata": {},
     "output_type": "execute_result"
    }
   ],
   "source": [
    "test1(a=1,b=2)"
   ]
  },
  {
   "cell_type": "markdown",
   "id": "07f74e28-4825-4693-956a-c2667edb827a",
   "metadata": {},
   "source": [
    "#ANS3-\n",
    "\n",
    "an object that contains a countable number of values. By using \"for loop\" and \"while loop\" we can initialize the iterator."
   ]
  },
  {
   "cell_type": "code",
   "execution_count": 10,
   "id": "2d010573-4abf-4a5d-8612-a72a04f22ed2",
   "metadata": {},
   "outputs": [],
   "source": [
    "l = [2,4,6,8,10,12,14,16,18,20]"
   ]
  },
  {
   "cell_type": "code",
   "execution_count": 11,
   "id": "722f8a86-a6e2-4465-921d-d6e5260400e9",
   "metadata": {},
   "outputs": [
    {
     "data": {
      "text/plain": [
       "[2, 4, 6, 8, 10, 12, 14, 16, 18, 20]"
      ]
     },
     "execution_count": 11,
     "metadata": {},
     "output_type": "execute_result"
    }
   ],
   "source": [
    "l"
   ]
  },
  {
   "cell_type": "code",
   "execution_count": 12,
   "id": "3cc6b7e3-d71e-4129-8c9e-d14180595f50",
   "metadata": {},
   "outputs": [
    {
     "name": "stdout",
     "output_type": "stream",
     "text": [
      "2\n",
      "4\n",
      "6\n",
      "8\n",
      "10\n"
     ]
    }
   ],
   "source": [
    "for i in range(5):\n",
    "    print(l[i])"
   ]
  },
  {
   "cell_type": "markdown",
   "id": "97a6d8be-42c9-4078-b26e-daceb9b087ff",
   "metadata": {},
   "source": [
    "#ANS4-\n",
    "\n",
    "A generator function in python is a special type of function that allows you to define iterator. The yield keyword is used instead of return keyword to produce a series of values, one at a time, on-demand.\n",
    "\n",
    "Here's an example of a generator function that generates a sequence of even numbers:"
   ]
  },
  {
   "cell_type": "code",
   "execution_count": 13,
   "id": "2035e7dd-8f42-446f-91ed-5e1c34afa757",
   "metadata": {},
   "outputs": [],
   "source": [
    "def even_numbers(n):\n",
    "    for i in range(n):\n",
    "        if i % 2 == 0:\n",
    "            yield i"
   ]
  },
  {
   "cell_type": "code",
   "execution_count": 14,
   "id": "19cb6a09-84c0-4269-a604-882c6f6d950c",
   "metadata": {},
   "outputs": [
    {
     "name": "stdout",
     "output_type": "stream",
     "text": [
      "0\n",
      "2\n",
      "4\n",
      "6\n",
      "8\n"
     ]
    }
   ],
   "source": [
    "for num in even_numbers(10):\n",
    "    print(num)"
   ]
  },
  {
   "cell_type": "markdown",
   "id": "92902c7a-adaf-4689-9839-b2e17f8de256",
   "metadata": {},
   "source": [
    "#ANS5-\n",
    "\n",
    "Here's an example of a generator function that yields prime numbers less than 1000."
   ]
  },
  {
   "cell_type": "code",
   "execution_count": 15,
   "id": "69d9a9e4-73f1-45df-a575-1863432d2a78",
   "metadata": {},
   "outputs": [],
   "source": [
    "def prime_generator():\n",
    "    primes = []\n",
    "    num = 2\n",
    "    while True:\n",
    "        if all(num % prime != 0 for prime in primes):\n",
    "            primes.append(num)\n",
    "            yield num\n",
    "        num += 1\n",
    "        if num >= 1000:\n",
    "            break"
   ]
  },
  {
   "cell_type": "code",
   "execution_count": 16,
   "id": "66758acd-2c5a-45a0-9b07-4e04b56aa156",
   "metadata": {},
   "outputs": [
    {
     "name": "stdout",
     "output_type": "stream",
     "text": [
      "2\n",
      "3\n",
      "5\n",
      "7\n",
      "11\n",
      "13\n",
      "17\n",
      "19\n",
      "23\n",
      "29\n",
      "31\n",
      "37\n",
      "41\n",
      "43\n",
      "47\n",
      "53\n",
      "59\n",
      "61\n",
      "67\n",
      "71\n"
     ]
    }
   ],
   "source": [
    "prime_gen = prime_generator()\n",
    "\n",
    "for _ in range(20):\n",
    "    prime = next(prime_gen)\n",
    "    print(prime)"
   ]
  },
  {
   "cell_type": "code",
   "execution_count": null,
   "id": "b3f15895-f535-4e70-b187-c87b4a7297a8",
   "metadata": {},
   "outputs": [],
   "source": []
  }
 ],
 "metadata": {
  "kernelspec": {
   "display_name": "Python 3 (ipykernel)",
   "language": "python",
   "name": "python3"
  },
  "language_info": {
   "codemirror_mode": {
    "name": "ipython",
    "version": 3
   },
   "file_extension": ".py",
   "mimetype": "text/x-python",
   "name": "python",
   "nbconvert_exporter": "python",
   "pygments_lexer": "ipython3",
   "version": "3.10.8"
  }
 },
 "nbformat": 4,
 "nbformat_minor": 5
}
