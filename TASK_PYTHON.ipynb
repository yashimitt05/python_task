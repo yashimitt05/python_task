{
 "cells": [
  {
   "cell_type": "markdown",
   "id": "074ef442-a529-4bf9-8a89-e79b85042804",
   "metadata": {},
   "source": [
    "Here's a Python function that takes a list as an argument, creates a flat list by extracting all numeric values from nested lists and dictionaries, and returns the product of all the numbers:"
   ]
  },
  {
   "cell_type": "code",
   "execution_count": 2,
   "id": "746085c2-e50c-487b-90a6-4aafb5fbebec",
   "metadata": {},
   "outputs": [
    {
     "name": "stdout",
     "output_type": "stream",
     "text": [
      "0\n"
     ]
    }
   ],
   "source": [
    "def calculate_product(lst):\n",
    "    flat_list = []\n",
    "\n",
    "    def flatten_list(input_list):\n",
    "        for item in input_list:\n",
    "            if isinstance(item, list):\n",
    "                flatten_list(item)\n",
    "            elif isinstance(item, dict):\n",
    "                flatten_list(item.keys())\n",
    "                flatten_list(item.values())\n",
    "            elif isinstance(item, (int, float)):\n",
    "                flat_list.append(item)\n",
    "\n",
    "    flatten_list(lst)\n",
    "    product = 1\n",
    "\n",
    "    for num in flat_list:\n",
    "        product *= num\n",
    "\n",
    "    return product\n",
    "\n",
    "list1 = [1, 2, 3, 4, [44, 55, 66, True], False, (34, 56, 78, 89, 34), {1, 2, 3, 3, 2, 1},\n",
    "         {1: 34, \"key2\": [55, 67, 78, 89], 4: (45, 22, 61, 34)}, [56, 'data science'], 'Machine Learning']\n",
    "\n",
    "result = calculate_product(list1)\n",
    "print(result)"
   ]
  },
  {
   "cell_type": "markdown",
   "id": "3604e163-fbb5-48c3-ac4e-ddbc71ab3fa9",
   "metadata": {},
   "source": [
    "The function recursively iterates through the input list, extracting numeric values from nested lists and dictionaries. It appends the numeric values to a flat_list. Finally, it multiplies all the numbers in the flat_list to obtain the product, which is returned as the result."
   ]
  },
  {
   "cell_type": "code",
   "execution_count": 3,
   "id": "91a9e47c-6e0a-4d87-a5bf-4cce58b301a7",
   "metadata": {},
   "outputs": [
    {
     "name": "stdout",
     "output_type": "stream",
     "text": [
      "r$dzmg$gl$yvxlnv$z$wzgz$hxrvmgrhg.\n"
     ]
    }
   ],
   "source": [
    "#ans2\n",
    "def encrypt_message(message):\n",
    "    encrypted_message = \"\"\n",
    "    for char in message:\n",
    "        if char.isalpha():\n",
    "            encrypted_char = chr(219 - ord(char.lower()))\n",
    "            encrypted_message += encrypted_char\n",
    "        elif char == \" \":\n",
    "            encrypted_message += \"$\"\n",
    "        else:\n",
    "            encrypted_message += char\n",
    "    return encrypted_message\n",
    "\n",
    "input_sentence = \"I want to become a Data Scientist.\"\n",
    "lowercase_sentence = input_sentence.lower()\n",
    "encrypted_sentence = encrypt_message(lowercase_sentence)\n",
    "print(encrypted_sentence)\n"
   ]
  },
  {
   "cell_type": "markdown",
   "id": "3dcdf7bd-04b5-4e4e-add2-d2e21c2ea029",
   "metadata": {},
   "source": [
    "In this program, the encrypt_message function takes a message as input and iterates through each character. If the character is an alphabet, it converts it to lowercase using lower(). Then it calculates the ASCII value of the character using ord() and subtracts it from 219. This logic ensures that 'a' is replaced by 'z', 'b' by 'y', and so on. The resulting character is appended to the encrypted_message string.\n",
    "\n",
    "If the character is a whitespace, it is replaced with a dollar sign ('$'). Punctuation marks and other special characters are left unchanged.\n",
    "\n",
    "The input sentence is converted to lowercase before being encrypted, and the resulting encrypted sentence is printed to the console."
   ]
  },
  {
   "cell_type": "code",
   "execution_count": null,
   "id": "8f5738e5-1133-4126-91d9-81410ed20b39",
   "metadata": {},
   "outputs": [],
   "source": []
  }
 ],
 "metadata": {
  "kernelspec": {
   "display_name": "Python 3 (ipykernel)",
   "language": "python",
   "name": "python3"
  },
  "language_info": {
   "codemirror_mode": {
    "name": "ipython",
    "version": 3
   },
   "file_extension": ".py",
   "mimetype": "text/x-python",
   "name": "python",
   "nbconvert_exporter": "python",
   "pygments_lexer": "ipython3",
   "version": "3.10.8"
  }
 },
 "nbformat": 4,
 "nbformat_minor": 5
}
