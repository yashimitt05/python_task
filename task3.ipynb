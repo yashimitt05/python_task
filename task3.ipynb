{
 "cells": [
  {
   "cell_type": "markdown",
   "id": "3f2dcc63-f553-4d42-b793-70faf38ffff8",
   "metadata": {},
   "source": [
    "#ANS1-\n",
    "\n",
    "\n",
    "CLASS:- A class is a user-defined data type that defines a set of attributes and methods that describe the behavior of objects created from it. It acts as a blueprint for creating objects. For example, if you're building a software system for a zoo, you might have a class called \"Animal\" that defines the common characteristics and behaviors of all animals in the system.\n",
    "\n",
    "OBJECT:- An object is an instance of a class. It represents a specific entity that can be created, manipulated, and interacted with in your program. Objects have state (values of their attributes) and behavior (implemented through methods). Going back to our zoo example, an object of the \"Animal\" class could be a specific instance of an animal, such as a lion or a giraffe.\n"
   ]
  },
  {
   "cell_type": "markdown",
   "id": "9284a936-d1f9-46b1-81d2-7faaea8654d0",
   "metadata": {},
   "source": [
    "#ANS2-\n",
    "\n",
    "Encapsulation: Encapsulation refers to the bundling of data and methods (functions) together into a single unit called an object.\n",
    "\n",
    "Inheritance: Inheritance is the mechanism by which one class can inherit the properties and methods of another class. It promotes code reusability and establishes a hierarchical relationship between classes. \n",
    "\n",
    "Polymorphism: Polymorphism allows objects of different classes to be treated as objects of a common base class. It allows methods to be defined in multiple classes with the same name but different implementations.\n",
    "\n",
    "Abstraction: Abstraction focuses on providing a simplified and generalized representation of real-world objects in the form of classes. It involves identifying the essential characteristics and behaviors of an object and ignoring the irrelevant details. "
   ]
  },
  {
   "cell_type": "markdown",
   "id": "9c4f1c86-9dde-40f8-802c-29d1e4d0d675",
   "metadata": {},
   "source": [
    "#ANS3-\n",
    "\n",
    "The __init__() function is a special method in Python classes that is used to initialize the objects of that class. It is called automatically when an instance (object) of the class is created. The primary purpose of the __init__() method is to set up the initial state of an object by assigning values to its attributes or performing any necessary setup operations.\n"
   ]
  },
  {
   "cell_type": "code",
   "execution_count": 1,
   "id": "7c7bed70-2e2e-4841-b409-c1e7350ac3a8",
   "metadata": {},
   "outputs": [
    {
     "name": "stdout",
     "output_type": "stream",
     "text": [
      "Make: Toyota\n",
      "Model: Camry\n",
      "Year: 2022\n",
      "Mileage: 100 miles\n"
     ]
    }
   ],
   "source": [
    "class Car:\n",
    "    def __init__(self, make, model, year):\n",
    "        self.make = make\n",
    "        self.model = model\n",
    "        self.year = year\n",
    "        self.mileage = 0\n",
    "\n",
    "    def drive(self, distance):\n",
    "        self.mileage += distance\n",
    "\n",
    "    def display_info(self):\n",
    "        print(f\"Make: {self.make}\")\n",
    "        print(f\"Model: {self.model}\")\n",
    "        print(f\"Year: {self.year}\")\n",
    "        print(f\"Mileage: {self.mileage} miles\")\n",
    "\n",
    "\n",
    "# Creating an instance of the Car class\n",
    "my_car = Car(\"Toyota\", \"Camry\", 2022)\n",
    "\n",
    "# Calling methods on the instance\n",
    "my_car.drive(100)\n",
    "my_car.display_info()"
   ]
  },
  {
   "cell_type": "markdown",
   "id": "e2909b1b-b790-4991-9441-d2f5efc0b2df",
   "metadata": {},
   "source": [
    "#ANS4-\n",
    "\n",
    "In object-oriented programming (OOP), the concept of \"self\" is used to refer to the current instance of a class. It is a special parameter that allows an object to refer to itself and access its own properties and methods.\n",
    "\n",
    "The primary purpose of \"self\" is to differentiate between instance variables and local variables within a class. When a method is called on an object, the \"self\" parameter allows the object to know which instance variables it should operate on."
   ]
  },
  {
   "cell_type": "markdown",
   "id": "ded2423c-f47f-458a-9e54-0e4a863adf89",
   "metadata": {},
   "source": [
    "#ANS5-\n",
    "\n",
    "Inheritance is a fundamental concept in object-oriented programming (OOP) that allows classes to inherit properties and behaviors from other classes. It promotes code reuse, extensibility, and organization by establishing a hierarchical relationship between classes. The class that inherits from another class is called the subclass or derived class, and the class being inherited from is called the superclass or base class."
   ]
  },
  {
   "cell_type": "markdown",
   "id": "de7d6151-26e2-4920-9c4c-38623b029085",
   "metadata": {},
   "source": [
    "1- Single Inheritance:"
   ]
  },
  {
   "cell_type": "code",
   "execution_count": 2,
   "id": "e61331d2-537d-4b4e-be7a-5474ba6b5d64",
   "metadata": {},
   "outputs": [
    {
     "name": "stdout",
     "output_type": "stream",
     "text": [
      "Toyota\n",
      "Driving the vehicle.\n",
      "Parking the car.\n"
     ]
    }
   ],
   "source": [
    "class Vehicle:\n",
    "    def __init__(self, brand):\n",
    "        self.brand = brand\n",
    "\n",
    "    def drive(self):\n",
    "        print(\"Driving the vehicle.\")\n",
    "\n",
    "class Car(Vehicle):\n",
    "    def __init__(self, brand, model):\n",
    "        super().__init__(brand)\n",
    "        self.model = model\n",
    "\n",
    "    def park(self):\n",
    "        print(\"Parking the car.\")\n",
    "\n",
    "my_car = Car(\"Toyota\", \"Camry\")\n",
    "print(my_car.brand)  # Output: Toyota\n",
    "my_car.drive()       # Output: Driving the vehicle.\n",
    "my_car.park()        # Output: Parking the car."
   ]
  },
  {
   "cell_type": "markdown",
   "id": "18313ff6-36f3-49fa-9c5b-0aa313245787",
   "metadata": {},
   "source": [
    "2- Multiple Inheritance:\n"
   ]
  },
  {
   "cell_type": "code",
   "execution_count": 3,
   "id": "70fa01d7-d3a3-4b79-99e1-9f3e365aa2e4",
   "metadata": {},
   "outputs": [
    {
     "name": "stdout",
     "output_type": "stream",
     "text": [
      "Eating...\n",
      "Sleeping...\n",
      "Barking...\n"
     ]
    }
   ],
   "source": [
    "class Animal:\n",
    "    def eat(self):\n",
    "        print(\"Eating...\")\n",
    "\n",
    "class Mammal:\n",
    "    def sleep(self):\n",
    "        print(\"Sleeping...\")\n",
    "\n",
    "class Dog(Animal, Mammal):\n",
    "    def bark(self):\n",
    "        print(\"Barking...\")\n",
    "\n",
    "my_dog = Dog()\n",
    "my_dog.eat()     # Output: Eating...\n",
    "my_dog.sleep()   # Output: Sleeping...\n",
    "my_dog.bark()    # Output: Barking..."
   ]
  },
  {
   "cell_type": "markdown",
   "id": "cfec4ab7-ebe3-464f-b765-7d1944f08031",
   "metadata": {},
   "source": []
  }
 ],
 "metadata": {
  "kernelspec": {
   "display_name": "Python 3 (ipykernel)",
   "language": "python",
   "name": "python3"
  },
  "language_info": {
   "codemirror_mode": {
    "name": "ipython",
    "version": 3
   },
   "file_extension": ".py",
   "mimetype": "text/x-python",
   "name": "python",
   "nbconvert_exporter": "python",
   "pygments_lexer": "ipython3",
   "version": "3.10.8"
  }
 },
 "nbformat": 4,
 "nbformat_minor": 5
}
