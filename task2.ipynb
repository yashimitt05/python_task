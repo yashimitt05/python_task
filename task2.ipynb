{
 "cells": [
  {
   "cell_type": "markdown",
   "id": "928d411b-6c01-4f61-bf89-b28162164b2c",
   "metadata": {},
   "source": [
    "#ANS1-"
   ]
  },
  {
   "cell_type": "code",
   "execution_count": 1,
   "id": "e6a49da0-dad6-4201-b9c6-da97dafdb38c",
   "metadata": {},
   "outputs": [
    {
     "name": "stdout",
     "output_type": "stream",
     "text": [
      "('Virat Kohli', 24936)\n",
      "('Jack Kallis', 25534)\n",
      "('Ricky Ponting', 27483)\n",
      "('Sachin Tendulkar', 34357)\n"
     ]
    }
   ],
   "source": [
    "data = [('Sachin Tendulkar', 34357), ('Ricky Ponting', 27483), ('Jack Kallis', 25534), ('Virat Kohli', 24936)]\n",
    "\n",
    "sorted_data = sorted(data, key=lambda x: x[1])\n",
    "\n",
    "for item in sorted_data:\n",
    "    print(item)"
   ]
  },
  {
   "cell_type": "markdown",
   "id": "6c4fdf8e-1312-4264-98a5-672d909c9c62",
   "metadata": {},
   "source": [
    "#ANS2-"
   ]
  },
  {
   "cell_type": "code",
   "execution_count": 2,
   "id": "b4e3dd61-9199-4018-989d-4d82be513c3b",
   "metadata": {},
   "outputs": [],
   "source": [
    "l = [1,2,3,4,5,6,7,8,9,10]"
   ]
  },
  {
   "cell_type": "code",
   "execution_count": 4,
   "id": "38c3473c-a6ae-4f0a-a4a2-65ecbef44cd0",
   "metadata": {},
   "outputs": [],
   "source": [
    "def sq(x):\n",
    "    return x**2\n"
   ]
  },
  {
   "cell_type": "code",
   "execution_count": 5,
   "id": "59d68f2e-e30c-4c34-b68f-1a380216da9c",
   "metadata": {},
   "outputs": [
    {
     "data": {
      "text/plain": [
       "<map at 0x7f795d5124a0>"
      ]
     },
     "execution_count": 5,
     "metadata": {},
     "output_type": "execute_result"
    }
   ],
   "source": [
    "map(sq,l)"
   ]
  },
  {
   "cell_type": "code",
   "execution_count": 7,
   "id": "0249d6c5-c85c-4baa-b18d-f85d459bc958",
   "metadata": {},
   "outputs": [
    {
     "data": {
      "text/plain": [
       "[1, 4, 9, 16, 25, 36, 49, 64, 81, 100]"
      ]
     },
     "execution_count": 7,
     "metadata": {},
     "output_type": "execute_result"
    }
   ],
   "source": [
    "list(map(lambda x: x**2 , l))"
   ]
  },
  {
   "cell_type": "markdown",
   "id": "7fc671f7-c19f-40fd-b66a-e99cc2c2a39f",
   "metadata": {},
   "source": [
    "#ANS3-"
   ]
  },
  {
   "cell_type": "code",
   "execution_count": 11,
   "id": "6a758732-e27d-4bb5-aa20-5fbfe2e04e5d",
   "metadata": {},
   "outputs": [],
   "source": [
    "def string(x):\n",
    "    return x"
   ]
  },
  {
   "cell_type": "code",
   "execution_count": 12,
   "id": "272d955a-e1fa-4501-a6c9-98505b42bdf6",
   "metadata": {},
   "outputs": [
    {
     "data": {
      "text/plain": [
       "<map at 0x7f795c078910>"
      ]
     },
     "execution_count": 12,
     "metadata": {},
     "output_type": "execute_result"
    }
   ],
   "source": [
    "map(string, l)"
   ]
  },
  {
   "cell_type": "code",
   "execution_count": 14,
   "id": "af3e25b7-8db0-451c-8cd7-dd65bb024b97",
   "metadata": {},
   "outputs": [
    {
     "data": {
      "text/plain": [
       "['1', '2', '3', '4', '5', '6', '7', '8', '9', '10']"
      ]
     },
     "execution_count": 14,
     "metadata": {},
     "output_type": "execute_result"
    }
   ],
   "source": [
    "list(map(lambda x: str(x),l))"
   ]
  },
  {
   "cell_type": "code",
   "execution_count": 26,
   "id": "cc71234d-6441-4e4a-8755-6ce0636e8495",
   "metadata": {},
   "outputs": [],
   "source": [
    "l = list(range(1,26))"
   ]
  },
  {
   "cell_type": "code",
   "execution_count": 21,
   "id": "ac30cde3-cd79-426b-a6e9-975354680e8c",
   "metadata": {},
   "outputs": [],
   "source": [
    "def product(x,y):\n",
    "    return x*y"
   ]
  },
  {
   "cell_type": "code",
   "execution_count": 27,
   "id": "f60171cc-418f-4638-9b9b-39ecc852017c",
   "metadata": {},
   "outputs": [
    {
     "data": {
      "text/plain": [
       "[1,\n",
       " 2,\n",
       " 3,\n",
       " 4,\n",
       " 5,\n",
       " 6,\n",
       " 7,\n",
       " 8,\n",
       " 9,\n",
       " 10,\n",
       " 11,\n",
       " 12,\n",
       " 13,\n",
       " 14,\n",
       " 15,\n",
       " 16,\n",
       " 17,\n",
       " 18,\n",
       " 19,\n",
       " 20,\n",
       " 21,\n",
       " 22,\n",
       " 23,\n",
       " 24,\n",
       " 25]"
      ]
     },
     "execution_count": 27,
     "metadata": {},
     "output_type": "execute_result"
    }
   ],
   "source": [
    "l"
   ]
  },
  {
   "cell_type": "code",
   "execution_count": 28,
   "id": "f90b66bb-e26f-4d31-b258-646d4495cca6",
   "metadata": {},
   "outputs": [],
   "source": [
    "from functools import reduce"
   ]
  },
  {
   "cell_type": "code",
   "execution_count": 29,
   "id": "b5d306b9-7863-4c97-8a46-1d8afba01249",
   "metadata": {},
   "outputs": [
    {
     "data": {
      "text/plain": [
       "15511210043330985984000000"
      ]
     },
     "execution_count": 29,
     "metadata": {},
     "output_type": "execute_result"
    }
   ],
   "source": [
    "reduce(product,l)"
   ]
  },
  {
   "cell_type": "code",
   "execution_count": 30,
   "id": "068d7223-029b-4974-823a-c768a68ee49d",
   "metadata": {},
   "outputs": [],
   "source": [
    "def divisible(x):\n",
    "    return x"
   ]
  },
  {
   "cell_type": "code",
   "execution_count": 31,
   "id": "7fdb23a3-8e8d-47f4-b9f6-2800ae3fd9d7",
   "metadata": {},
   "outputs": [],
   "source": [
    "l = [2,3,6,9,27,60,90,120,55,46]"
   ]
  },
  {
   "cell_type": "code",
   "execution_count": 34,
   "id": "277c9505-88a5-4a92-a539-665f05bd7858",
   "metadata": {},
   "outputs": [
    {
     "data": {
      "text/plain": [
       "[6, 60, 90, 120]"
      ]
     },
     "execution_count": 34,
     "metadata": {},
     "output_type": "execute_result"
    }
   ],
   "source": [
    "list(filter(lambda x: x%2 == 0 and x%3 == 0 , l))"
   ]
  },
  {
   "cell_type": "code",
   "execution_count": 35,
   "id": "ebb105df-24f6-4430-af06-43cd630e8d2b",
   "metadata": {},
   "outputs": [],
   "source": [
    "string = ['python', 'php', 'aba', 'radar', 'level']"
   ]
  },
  {
   "cell_type": "code",
   "execution_count": null,
   "id": "0f8fcf35-94f8-43c6-9c3f-005b92737794",
   "metadata": {},
   "outputs": [],
   "source": []
  },
  {
   "cell_type": "code",
   "execution_count": 41,
   "id": "708741f2-cfc4-4b1d-a34a-092f644791b1",
   "metadata": {},
   "outputs": [
    {
     "data": {
      "text/plain": [
       "['php', 'aba', 'radar', 'level']"
      ]
     },
     "execution_count": 41,
     "metadata": {},
     "output_type": "execute_result"
    }
   ],
   "source": [
    "list(filter(lambda x: x == x[::-1], string ))"
   ]
  },
  {
   "cell_type": "code",
   "execution_count": null,
   "id": "67a5535c-e209-4d93-a843-10b6be1fe8cf",
   "metadata": {},
   "outputs": [],
   "source": []
  }
 ],
 "metadata": {
  "kernelspec": {
   "display_name": "Python 3 (ipykernel)",
   "language": "python",
   "name": "python3"
  },
  "language_info": {
   "codemirror_mode": {
    "name": "ipython",
    "version": 3
   },
   "file_extension": ".py",
   "mimetype": "text/x-python",
   "name": "python",
   "nbconvert_exporter": "python",
   "pygments_lexer": "ipython3",
   "version": "3.10.8"
  }
 },
 "nbformat": 4,
 "nbformat_minor": 5
}
